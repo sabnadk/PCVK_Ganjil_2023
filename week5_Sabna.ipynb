{
  "nbformat": 4,
  "nbformat_minor": 0,
  "metadata": {
    "colab": {
      "provenance": [],
      "mount_file_id": "https://github.com/sabnadk/PCVK_Ganjil_2023/blob/main/week5_Sabna.ipynb",
      "authorship_tag": "ABX9TyPJjM3OGhNlQPuhN3GzgzTj",
      "include_colab_link": true
    },
    "kernelspec": {
      "name": "python3",
      "display_name": "Python 3"
    },
    "language_info": {
      "name": "python"
    }
  },
  "cells": [
    {
      "cell_type": "markdown",
      "metadata": {
        "id": "view-in-github",
        "colab_type": "text"
      },
      "source": [
        "<a href=\"https://colab.research.google.com/github/sabnadk/PCVK_Ganjil_2023/blob/main/week5_Sabna.ipynb\" target=\"_parent\"><img src=\"https://colab.research.google.com/assets/colab-badge.svg\" alt=\"Open In Colab\"/></a>"
      ]
    },
    {
      "cell_type": "markdown",
      "source": [
        "# MODUL 5\n",
        "### Operasi ARitmatika dan Logika - Gamma Correction, Image Depth, PSNR, Average Denoising, Image Masking\n",
        "\n",
        "Nama  : Sabna Devi Kumalasari\n",
        "\n",
        "NIM   : 2141720009\n",
        "\n",
        "Kelas : TI-3E"
      ],
      "metadata": {
        "id": "TUITOB-_jyw8"
      }
    },
    {
      "cell_type": "code",
      "source": [
        "import numpy as np\n",
        "import pandas as pd\n",
        "import cv2 as cv\n",
        "from google.colab.patches import cv2_imshow # for image display\n",
        "from skimage import io\n",
        "from skimage import transform\n",
        "from PIL import Image\n",
        "import matplotlib.pylab as plt\n",
        "import glob\n",
        "\n",
        "from google.colab import drive\n",
        "drive.mount('/content/drive')"
      ],
      "metadata": {
        "id": "A-CvLapDk2so",
        "outputId": "8f0383da-900f-4e76-c911-e62682322544",
        "colab": {
          "base_uri": "https://localhost:8080/"
        }
      },
      "execution_count": 2,
      "outputs": [
        {
          "output_type": "stream",
          "name": "stdout",
          "text": [
            "Drive already mounted at /content/drive; to attempt to forcibly remount, call drive.mount(\"/content/drive\", force_remount=True).\n"
          ]
        }
      ]
    },
    {
      "cell_type": "markdown",
      "source": [
        "1. Gamma Correction"
      ],
      "metadata": {
        "id": "aizr0DpUkvIr"
      }
    },
    {
      "cell_type": "code",
      "source": [
        "print(' Gamma Correction pada citra ')\n",
        "print('----------------------------------')\n",
        "try:\n",
        "  gamma = int(input('Masukkan nilai Gamma: '))\n",
        "except ValueError:\n",
        "  print('Error, not a number')\n",
        "\n",
        "  original = cv.imread('/content/drive/MyDrive/KULIAH (1)/Semester5/PCVK/Images/female.tiff')\n",
        "\n",
        "  gamma_corrected = np.power((original / 255), 1/gamma)\n",
        "  gamma_corrected = (gamma_corrected * 255).astype(np.uint8)\n",
        "\n",
        "  final_frame=cv.hconcat ((original,gamma_corrected))\n",
        "  cv2_imshow(final_frame)"
      ],
      "metadata": {
        "id": "GBEXg_-qjyEI",
        "outputId": "bdb138cf-8088-4331-a3c2-56bf79d97630",
        "colab": {
          "base_uri": "https://localhost:8080/"
        }
      },
      "execution_count": 5,
      "outputs": [
        {
          "name": "stdout",
          "output_type": "stream",
          "text": [
            " Gamma Correction pada citra \n",
            "----------------------------------\n",
            "Masukkan nilai Gamma: 4\n"
          ]
        }
      ]
    },
    {
      "cell_type": "markdown",
      "source": [],
      "metadata": {
        "id": "BzCm1cSpncHl"
      }
    },
    {
      "cell_type": "code",
      "execution_count": null,
      "metadata": {
        "id": "3T-rJa0xh3x3"
      },
      "outputs": [],
      "source": []
    }
  ]
}