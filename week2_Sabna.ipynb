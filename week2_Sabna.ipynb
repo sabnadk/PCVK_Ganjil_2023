{
  "nbformat": 4,
  "nbformat_minor": 0,
  "metadata": {
    "colab": {
      "provenance": [],
      "mount_file_id": "https://github.com/sabnadk/PCVK_Ganjil_2023/blob/main/week2_Sabna.ipynb",
      "authorship_tag": "ABX9TyMFC5vfSmad5dk1Ua/AgzRI",
      "include_colab_link": true
    },
    "kernelspec": {
      "name": "python3",
      "display_name": "Python 3"
    },
    "language_info": {
      "name": "python"
    }
  },
  "cells": [
    {
      "cell_type": "markdown",
      "metadata": {
        "id": "view-in-github",
        "colab_type": "text"
      },
      "source": [
        "<a href=\"https://colab.research.google.com/github/sabnadk/PCVK_Ganjil_2023/blob/main/week2_Sabna.ipynb\" target=\"_parent\"><img src=\"https://colab.research.google.com/assets/colab-badge.svg\" alt=\"Open In Colab\"/></a>"
      ]
    },
    {
      "cell_type": "markdown",
      "source": [
        "# Sabna Devi Kumalasari / 2141720009"
      ],
      "metadata": {
        "id": "iWY9uECVzRzy"
      }
    },
    {
      "cell_type": "markdown",
      "source": [
        "## Praktikum"
      ],
      "metadata": {
        "id": "dLt_KJCjzWgG"
      }
    },
    {
      "cell_type": "code",
      "execution_count": 1,
      "metadata": {
        "id": "Xpl9u51hdYqc",
        "outputId": "074e7fe7-9486-439c-9d59-2315697375b4",
        "colab": {
          "base_uri": "https://localhost:8080/"
        }
      },
      "outputs": [
        {
          "output_type": "stream",
          "name": "stdout",
          "text": [
            "Mounted at /content/drive\n"
          ]
        }
      ],
      "source": [
        "from google.colab import drive\n",
        "\n",
        "# Accessing My Google Drive\n",
        "drive.mount('/content/drive')"
      ]
    }
  ]
}