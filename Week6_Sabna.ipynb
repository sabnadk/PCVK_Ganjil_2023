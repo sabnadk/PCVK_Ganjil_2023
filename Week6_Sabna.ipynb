{
  "nbformat": 4,
  "nbformat_minor": 0,
  "metadata": {
    "colab": {
      "provenance": [],
      "authorship_tag": "ABX9TyPeCGrpzlXz7AP7+bKMKpZT",
      "include_colab_link": true
    },
    "kernelspec": {
      "name": "python3",
      "display_name": "Python 3"
    },
    "language_info": {
      "name": "python"
    }
  },
  "cells": [
    {
      "cell_type": "markdown",
      "metadata": {
        "id": "view-in-github",
        "colab_type": "text"
      },
      "source": [
        "<a href=\"https://colab.research.google.com/github/sabnadk/PCVK_Ganjil_2023/blob/main/Week6_Sabna.ipynb\" target=\"_parent\"><img src=\"https://colab.research.google.com/assets/colab-badge.svg\" alt=\"Open In Colab\"/></a>"
      ]
    },
    {
      "cell_type": "markdown",
      "source": [
        "# **MODUL 6 - Histogram Equalization, Dithering**\n",
        "\n",
        "Nama   : Sabna Devi Kumalasari\n",
        "NIM    : 2141720009\n",
        "Kelas  : TI-3E"
      ],
      "metadata": {
        "id": "QxTmN-8HaZJ-"
      }
    },
    {
      "cell_type": "markdown",
      "source": [
        "### **TUGAS PRAKTIKUM**"
      ],
      "metadata": {
        "id": "CjO-fUDRbA_4"
      }
    },
    {
      "cell_type": "code",
      "execution_count": null,
      "metadata": {
        "id": "Jhzi_5fI7Jwy"
      },
      "outputs": [],
      "source": []
    }
  ]
}